{
 "cells": [
  {
   "cell_type": "code",
   "execution_count": 1,
   "metadata": {},
   "outputs": [],
   "source": [
    "from turtle import *\n",
    "color(\"red\")\n",
    "begin_fill()\n",
    "left(50)\n",
    "forward(133)\n",
    "circle(50,200)\n",
    "right(140)\n",
    "circle(50,200)\n",
    "forward(133)\n",
    "end_fill()"
   ]
  }
 ],
 "metadata": {
  "kernelspec": {
   "display_name": "Python 3.10.7 64-bit",
   "language": "python",
   "name": "python3"
  },
  "language_info": {
   "codemirror_mode": {
    "name": "ipython",
    "version": 3
   },
   "file_extension": ".py",
   "mimetype": "text/x-python",
   "name": "python",
   "nbconvert_exporter": "python",
   "pygments_lexer": "ipython3",
   "version": "3.10.7"
  },
  "orig_nbformat": 4,
  "vscode": {
   "interpreter": {
    "hash": "8356047840573d58cfeca61bd4a86169de5cd58471b204f5628bb3e0073bc0c9"
   }
  }
 },
 "nbformat": 4,
 "nbformat_minor": 2
}
